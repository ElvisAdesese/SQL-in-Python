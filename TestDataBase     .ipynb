{
 "cells": [
  {
   "cell_type": "code",
   "execution_count": 16,
   "id": "802a84ad",
   "metadata": {},
   "outputs": [],
   "source": [
    "import psycopg2"
   ]
  },
  {
   "cell_type": "markdown",
   "id": "bc002bb3",
   "metadata": {},
   "source": [
    "# Create a connection with Postgres"
   ]
  },
  {
   "cell_type": "code",
   "execution_count": 17,
   "id": "bfcd5b22",
   "metadata": {},
   "outputs": [],
   "source": [
    "try:\n",
    "    conn=psycopg2.connect(dbname='test',  user='postgres', host='localhost' ,password='stipulated', port='5432')\n",
    "except psycopg2.Error as e:\n",
    "    print(e)"
   ]
  },
  {
   "cell_type": "code",
   "execution_count": 18,
   "id": "f2c8c84b",
   "metadata": {},
   "outputs": [
    {
     "data": {
      "text/plain": [
       "<connection object at 0x00000011BFE4D590; dsn: 'user=postgres password=xxx dbname=test host=localhost port=5432', closed: 0>"
      ]
     },
     "execution_count": 18,
     "metadata": {},
     "output_type": "execute_result"
    }
   ],
   "source": [
    "conn"
   ]
  },
  {
   "cell_type": "markdown",
   "id": "64baca4e",
   "metadata": {},
   "source": [
    "Use connection to get a cursor"
   ]
  },
  {
   "cell_type": "code",
   "execution_count": 19,
   "id": "d678b65e",
   "metadata": {},
   "outputs": [],
   "source": [
    "try:\n",
    "    cur=conn.cursor()\n",
    "except psycopg2.Error as e:\n",
    "    print('Error: Could not get cursor to the database')\n",
    "    print(e)"
   ]
  },
  {
   "cell_type": "code",
   "execution_count": 20,
   "id": "4d4f0992",
   "metadata": {},
   "outputs": [],
   "source": [
    "conn.set_session(autocommit=True)"
   ]
  },
  {
   "cell_type": "markdown",
   "id": "a721d9f8",
   "metadata": {},
   "source": [
    "CREATE A DATABASE"
   ]
  },
  {
   "cell_type": "code",
   "execution_count": 21,
   "id": "271c0cc9",
   "metadata": {},
   "outputs": [],
   "source": [
    "try:\n",
    "    cur.execute('create database mydemo')\n",
    "except psycopg2.Error as e:\n",
    "    print(e)\n",
    "    "
   ]
  },
  {
   "cell_type": "markdown",
   "id": "117cde52",
   "metadata": {},
   "source": [
    "closs connection and connect to the database"
   ]
  },
  {
   "cell_type": "code",
   "execution_count": 26,
   "id": "5de1e644",
   "metadata": {},
   "outputs": [],
   "source": [
    "try:\n",
    "    conn.close()\n",
    "except psycopg2.Error as e:\n",
    "    print(e)\n",
    "\n",
    "\n",
    "try:\n",
    "    conn=psycopg2.connect(dbname='mydemo',  user='postgres', host='localhost' ,password='stipulated', port='5432')\n",
    "except psycopg2.Error as e:\n",
    "    print('Error: Could not make connection to postgres database')\n",
    "    print(e)\n",
    "    \n",
    "try:\n",
    "    cur=conn.cursor()\n",
    "except psycopg2.Error as e:\n",
    "    print('Error: Could not get cursor to the database')\n",
    "    print(e)\n",
    "    \n",
    "conn.set_session(autocommit=True)    "
   ]
  },
  {
   "cell_type": "markdown",
   "id": "80d08774",
   "metadata": {},
   "source": [
    "Create Table"
   ]
  },
  {
   "cell_type": "code",
   "execution_count": 27,
   "id": "322f1faa",
   "metadata": {},
   "outputs": [],
   "source": [
    "try:\n",
    "    cur.execute('CREATE TABLE students(student_id int, name varchar, age int, gender varchar, subject varchar, marks int);')\n",
    "except psycopg2.Error as e:\n",
    "    print('Error: Issue creating table')\n",
    "    print (e)\n",
    "    "
   ]
  },
  {
   "cell_type": "markdown",
   "id": "1a0a8e2c",
   "metadata": {},
   "source": [
    "Insert the following rows in the table"
   ]
  },
  {
   "cell_type": "code",
   "execution_count": 31,
   "id": "8d64031e",
   "metadata": {},
   "outputs": [],
   "source": [
    "try:\n",
    "    cur.execute('INSERT INTO students(student_id, name, age, gender, subject, marks)\\\n",
    "                VALUES(%s,%s,%s,%s,%s,%s)',\n",
    "                (1, 'Rag', 23,'Male','python',85))\n",
    "except psycopg2.Error as e:\n",
    "    print('Error: Inserting Rows')\n",
    "    print(e)\n",
    "\n",
    "try:\n",
    "    cur.execute('INSERT INTO students(student_id, name, age, gender, subject, marks)\\\n",
    "                VALUES(%s,%s,%s,%s,%s,%s)',\n",
    "                (6, 'Mike', 30,'Male','javascript',78)) \n",
    "except psycopg2.Error as e:\n",
    "    print('Error: Issue inserting into rows')\n",
    "    print (e)    "
   ]
  },
  {
   "cell_type": "markdown",
   "id": "bc294b2c",
   "metadata": {},
   "source": [
    "Check if your data was inserted into the rows"
   ]
  },
  {
   "cell_type": "code",
   "execution_count": 50,
   "id": "3aafb826",
   "metadata": {},
   "outputs": [],
   "source": [
    "cur.execute('select * from students;')"
   ]
  },
  {
   "cell_type": "code",
   "execution_count": 51,
   "id": "e638fc5b",
   "metadata": {},
   "outputs": [
    {
     "data": {
      "text/plain": [
       "[(1, 'Rag', 23, 'Male', 'python', 85),\n",
       " (1, 'Rag', 23, 'Male', 'python', 85),\n",
       " (6, 'Mike', 30, 'Male', 'javascript', 78)]"
      ]
     },
     "execution_count": 51,
     "metadata": {},
     "output_type": "execute_result"
    }
   ],
   "source": [
    "cur.fetchall()"
   ]
  },
  {
   "cell_type": "markdown",
   "id": "1638f417",
   "metadata": {},
   "source": [
    "close connection"
   ]
  },
  {
   "cell_type": "code",
   "execution_count": 52,
   "id": "99610e31",
   "metadata": {},
   "outputs": [],
   "source": [
    "cur.close()\n",
    "conn.close()"
   ]
  },
  {
   "cell_type": "code",
   "execution_count": null,
   "id": "20e56091",
   "metadata": {},
   "outputs": [],
   "source": []
  }
 ],
 "metadata": {
  "kernelspec": {
   "display_name": "Python 3 (ipykernel)",
   "language": "python",
   "name": "python3"
  },
  "language_info": {
   "codemirror_mode": {
    "name": "ipython",
    "version": 3
   },
   "file_extension": ".py",
   "mimetype": "text/x-python",
   "name": "python",
   "nbconvert_exporter": "python",
   "pygments_lexer": "ipython3",
   "version": "3.9.12"
  }
 },
 "nbformat": 4,
 "nbformat_minor": 5
}
